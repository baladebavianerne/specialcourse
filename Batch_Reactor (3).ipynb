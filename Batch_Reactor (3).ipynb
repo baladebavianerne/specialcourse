{
 "cells": [
  {
   "cell_type": "markdown",
   "metadata": {},
   "source": [
    "Initialize. Call the commandoes:"
   ]
  },
  {
   "cell_type": "code",
   "execution_count": 1,
   "metadata": {},
   "outputs": [],
   "source": [
    "# Initialization\n",
    "import matplotlib.pyplot as plt\n",
    "import numpy as np\n",
    "import pandas as pd\n",
    "from scipy.integrate import quad\n",
    "from scipy.integrate import odeint\n",
    "import math\n",
    "from math import exp, expm1\n",
    "from dataclasses import dataclass"
   ]
  },
  {
   "cell_type": "code",
   "execution_count": 2,
   "metadata": {},
   "outputs": [],
   "source": [
    "class BatchReactant:\n",
    "    def __init__(self, Name, Coefficient, Concentration, Order, EndConcentration):\n",
    "        self.Name = Name\n",
    "        self.Coefficient = Coefficient\n",
    "        self.Concentration = Concentration\n",
    "        self.Order = Order\n",
    "        self.EndConcentration = EndConcentration\n",
    "\n",
    "reactant = [BatchReactant(\"Component A\", 1, 0.80, 2, 'X'),\n",
    "            BatchReactant(\"Component B\", 2, 0.60, 1, 'X'),\n",
    "            BatchReactant(\"Component C\", 6, 0.88, 0, 'X')]\n",
    "\n",
    "class BatchProduct:\n",
    "    def __init__(self, Name, Coefficient, Concentration, EndConcentration):\n",
    "        self.Name = Name\n",
    "        self.Coefficient = Coefficient\n",
    "        self.Concentration = Concentration\n",
    "        self.EndConcentration = EndConcentration\n",
    "\n",
    "product = [BatchProduct(\"Product D\", 1, 0, 'X'),\n",
    "           BatchProduct(\"Product E\", 2, 0, 'X')]\n",
    "\n",
    "class BatchReaction:\n",
    "    def __init__(self, Reaction, Conversion, Rate, Volume):\n",
    "        self.Reaction = Reaction\n",
    "        self.Conversion = Conversion\n",
    "        self.Rate = Rate\n",
    "        self.Volume = Volume\n",
    "        \n",
    "reaction = BatchReaction(\"Reaction 1\", 0.8, 1.2, 8)"
   ]
  },
  {
   "cell_type": "code",
   "execution_count": 3,
   "metadata": {},
   "outputs": [],
   "source": [
    "# Finding the limiting reactant amount\n",
    "Amount = [];\n",
    "for r in reactant:\n",
    "    amount = r.Concentration/r.Coefficient\n",
    "    Amount.append(amount)\n",
    "    Limit_amount = min(Amount)\n",
    "    if Limit_amount == amount:\n",
    "        limit_coef = r.Coefficient \n",
    "        limit_concentration = r.Concentration"
   ]
  },
  {
   "cell_type": "code",
   "execution_count": 4,
   "metadata": {},
   "outputs": [],
   "source": [
    "# End concentration reactant\n",
    "for r in reactant:\n",
    "    r.EndConcentration = r.Concentration-r.Coefficient/limit_coef*limit_concentration*reaction.Conversion "
   ]
  },
  {
   "cell_type": "code",
   "execution_count": 5,
   "metadata": {},
   "outputs": [],
   "source": [
    "# End concentration products\n",
    "for p in product:\n",
    "    p.EndConcentration = p.Concentration+p.Coefficient/limit_coef*limit_concentration*reaction.Conversion"
   ]
  },
  {
   "cell_type": "code",
   "execution_count": 6,
   "metadata": {},
   "outputs": [
    {
     "name": "stdout",
     "output_type": "stream",
     "text": [
      "The final concentration of Component A, is 0.6826666666666668\n",
      "The final concentration of Component B, is 0.3653333333333333\n",
      "The final concentration of Component C, is 0.17599999999999993\n",
      "The final concentration of Product D, is 0.11733333333333335\n",
      "The final concentration of Product E, is 0.2346666666666667\n"
     ]
    }
   ],
   "source": [
    "for r in reactant:\n",
    "    print('The final concentration of ' + str(r.Name) + ', is ' + str(r.EndConcentration))\n",
    "for p in product:\n",
    "    print('The final concentration of ' + str(p.Name) + ', is ' + str(p.EndConcentration))"
   ]
  },
  {
   "cell_type": "code",
   "execution_count": 7,
   "metadata": {},
   "outputs": [],
   "source": [
    "#The mixing time for the reaction is now calculated  \n",
    "def integrand(X):\n",
    "    rate=1;\n",
    "    for r in reactant:\n",
    "        Q = (r.Concentration-r.Coefficient/limit_coef*limit_concentration*X)**(r.Order)\n",
    "        rate = rate*Q\n",
    "    return limit_concentration/(reaction.Rate*rate)\n",
    "t_react, err = quad(integrand, 0, reaction.Conversion)"
   ]
  },
  {
   "cell_type": "code",
   "execution_count": 8,
   "metadata": {},
   "outputs": [],
   "source": [
    "time = np.linspace(0,t_react,num=100)"
   ]
  },
  {
   "cell_type": "code",
   "execution_count": 9,
   "metadata": {},
   "outputs": [],
   "source": [
    "# The reaction kinetics for the reactants \n",
    "Concentration_reactant_initial = [];\n",
    "Order_reactant = [];\n",
    "for r in reactant:\n",
    "    Concentration_reactant_initial.append(r.Concentration)\n",
    "    Order_reactant.append(r.Order)"
   ]
  },
  {
   "cell_type": "code",
   "execution_count": 10,
   "metadata": {},
   "outputs": [],
   "source": [
    "# Model the system for the reactants\n",
    "def model_reactant(Conc_r, time):\n",
    "    rate_r = 1;\n",
    "    for c in range(len(Concentration_reactant_initial)):\n",
    "        each_r = Conc_r[c-1]**Order_reactant[c-1]\n",
    "        rate_r = rate_r * each_r\n",
    "    dCrdt = [];\n",
    "    for r in reactant:\n",
    "        dCrdt.append(-reaction.Rate * rate_r * r.Coefficient /limit_coef)\n",
    "    return dCrdt"
   ]
  },
  {
   "cell_type": "code",
   "execution_count": 11,
   "metadata": {},
   "outputs": [],
   "source": [
    "#Solve the reactant system\n",
    "sol_r = odeint(model_reactant, Concentration_reactant_initial, time)"
   ]
  },
  {
   "cell_type": "code",
   "execution_count": 12,
   "metadata": {},
   "outputs": [
    {
     "data": {
      "image/png": "[encoded data removed]",
      "text/plain": [
       "<Figure size 432x288 with 1 Axes>"
      ]
     },
     "metadata": {
      "needs_background": "light"
     },
     "output_type": "display_data"
    }
   ],
   "source": [
    "# Plot the reactants \n",
    "fig = plt.figure()\n",
    "ax = plt.subplot(111)\n",
    "ax.plot(time,sol_r[:,0], label = 'Ca')\n",
    "ax.plot(time,sol_r[:,1], label = 'Cb')\n",
    "ax.plot(time,sol_r[:,2], label = 'Cc')\n",
    "plt.title('Concentration profile of reactants')\n",
    "ax.legend()\n",
    "plt.show()"
   ]
  },
  {
   "cell_type": "code",
   "execution_count": 13,
   "metadata": {},
   "outputs": [],
   "source": [
    "# Finding the limiting reactant amount\n",
    "Solution_limiting = [];\n",
    "for r in reactant:\n",
    "    amount = r.Concentration/r.Coefficient\n",
    "    Amount.append(amount)\n",
    "    Limit_amount = min(Amount)\n",
    "    if Limit_amount == amount:\n",
    "        limit_coef = r.Coefficient \n",
    "        limit_concentration = r.Concentration"
   ]
  },
  {
   "cell_type": "code",
   "execution_count": 19,
   "metadata": {},
   "outputs": [
    {
     "name": "stdout",
     "output_type": "stream",
     "text": [
      "[0.8  0.6  0.88]\n"
     ]
    }
   ],
   "source": [
    "print(sol_r[0])"
   ]
  },
  {
   "cell_type": "code",
   "execution_count": null,
   "metadata": {},
   "outputs": [],
   "source": []
  },
  {
   "cell_type": "code",
   "execution_count": null,
   "metadata": {},
   "outputs": [],
   "source": []
  },
  {
   "cell_type": "code",
   "execution_count": null,
   "metadata": {},
   "outputs": [],
   "source": []
  },
  {
   "cell_type": "code",
   "execution_count": null,
   "metadata": {},
   "outputs": [],
   "source": []
  },
  {
   "cell_type": "code",
   "execution_count": 15,
   "metadata": {},
   "outputs": [],
   "source": [
    "# The reaction kinetics for the products \n",
    "Concentration_product_initial = [];\n",
    "Coefficient_product = [];\n",
    "for p in product:\n",
    "    Concentration_product_initial.append(p.Concentration)\n",
    "    Coefficient_product.append(p.Coefficient)"
   ]
  },
  {
   "cell_type": "code",
   "execution_count": 16,
   "metadata": {},
   "outputs": [],
   "source": [
    "# Model the system for the products \n",
    "def model_product(Conc_p, time):\n",
    "    dCpdt = [];\n",
    "    for p in product:\n",
    "        dCpdt.append(p.Concentration+p.Coefficient /limit_coef*limit_concentration*X)\n",
    "    return dCpdt"
   ]
  },
  {
   "cell_type": "code",
   "execution_count": 17,
   "metadata": {},
   "outputs": [
    {
     "ename": "NameError",
     "evalue": "name 'X' is not defined",
     "output_type": "error",
     "traceback": [
      "\u001b[1;31m---------------------------------------------------------------------------\u001b[0m",
      "\u001b[1;31mNameError\u001b[0m                                 Traceback (most recent call last)",
      "\u001b[1;32m<ipython-input-17-ea387936a5fa>\u001b[0m in \u001b[0;36m<module>\u001b[1;34m\u001b[0m\n\u001b[0;32m      1\u001b[0m \u001b[1;31m#Solve the reactant system\u001b[0m\u001b[1;33m\u001b[0m\u001b[1;33m\u001b[0m\u001b[1;33m\u001b[0m\u001b[0m\n\u001b[1;32m----> 2\u001b[1;33m \u001b[0msol_p\u001b[0m \u001b[1;33m=\u001b[0m \u001b[0modeint\u001b[0m\u001b[1;33m(\u001b[0m\u001b[0mmodel_product\u001b[0m\u001b[1;33m,\u001b[0m \u001b[0mConcentration_product_initial\u001b[0m\u001b[1;33m,\u001b[0m \u001b[0mtime\u001b[0m\u001b[1;33m)\u001b[0m\u001b[1;33m\u001b[0m\u001b[1;33m\u001b[0m\u001b[0m\n\u001b[0m",
      "\u001b[1;32m~\\AppData\\Local\\Continuum\\anaconda3\\lib\\site-packages\\scipy\\integrate\\odepack.py\u001b[0m in \u001b[0;36modeint\u001b[1;34m(func, y0, t, args, Dfun, col_deriv, full_output, ml, mu, rtol, atol, tcrit, h0, hmax, hmin, ixpr, mxstep, mxhnil, mxordn, mxords, printmessg, tfirst)\u001b[0m\n\u001b[0;32m    242\u001b[0m                              \u001b[0mfull_output\u001b[0m\u001b[1;33m,\u001b[0m \u001b[0mrtol\u001b[0m\u001b[1;33m,\u001b[0m \u001b[0matol\u001b[0m\u001b[1;33m,\u001b[0m \u001b[0mtcrit\u001b[0m\u001b[1;33m,\u001b[0m \u001b[0mh0\u001b[0m\u001b[1;33m,\u001b[0m \u001b[0mhmax\u001b[0m\u001b[1;33m,\u001b[0m \u001b[0mhmin\u001b[0m\u001b[1;33m,\u001b[0m\u001b[1;33m\u001b[0m\u001b[1;33m\u001b[0m\u001b[0m\n\u001b[0;32m    243\u001b[0m                              \u001b[0mixpr\u001b[0m\u001b[1;33m,\u001b[0m \u001b[0mmxstep\u001b[0m\u001b[1;33m,\u001b[0m \u001b[0mmxhnil\u001b[0m\u001b[1;33m,\u001b[0m \u001b[0mmxordn\u001b[0m\u001b[1;33m,\u001b[0m \u001b[0mmxords\u001b[0m\u001b[1;33m,\u001b[0m\u001b[1;33m\u001b[0m\u001b[1;33m\u001b[0m\u001b[0m\n\u001b[1;32m--> 244\u001b[1;33m                              int(bool(tfirst)))\n\u001b[0m\u001b[0;32m    245\u001b[0m     \u001b[1;32mif\u001b[0m \u001b[0moutput\u001b[0m\u001b[1;33m[\u001b[0m\u001b[1;33m-\u001b[0m\u001b[1;36m1\u001b[0m\u001b[1;33m]\u001b[0m \u001b[1;33m<\u001b[0m \u001b[1;36m0\u001b[0m\u001b[1;33m:\u001b[0m\u001b[1;33m\u001b[0m\u001b[1;33m\u001b[0m\u001b[0m\n\u001b[0;32m    246\u001b[0m         \u001b[0mwarning_msg\u001b[0m \u001b[1;33m=\u001b[0m \u001b[0m_msgs\u001b[0m\u001b[1;33m[\u001b[0m\u001b[0moutput\u001b[0m\u001b[1;33m[\u001b[0m\u001b[1;33m-\u001b[0m\u001b[1;36m1\u001b[0m\u001b[1;33m]\u001b[0m\u001b[1;33m]\u001b[0m \u001b[1;33m+\u001b[0m \u001b[1;34m\" Run with full_output = 1 to get quantitative information.\"\u001b[0m\u001b[1;33m\u001b[0m\u001b[1;33m\u001b[0m\u001b[0m\n",
      "\u001b[1;32m<ipython-input-16-e31f30973279>\u001b[0m in \u001b[0;36mmodel_product\u001b[1;34m(Conc_p, time)\u001b[0m\n\u001b[0;32m      3\u001b[0m     \u001b[0mdCpdt\u001b[0m \u001b[1;33m=\u001b[0m \u001b[1;33m[\u001b[0m\u001b[1;33m]\u001b[0m\u001b[1;33m;\u001b[0m\u001b[1;33m\u001b[0m\u001b[1;33m\u001b[0m\u001b[0m\n\u001b[0;32m      4\u001b[0m     \u001b[1;32mfor\u001b[0m \u001b[0mp\u001b[0m \u001b[1;32min\u001b[0m \u001b[0mproduct\u001b[0m\u001b[1;33m:\u001b[0m\u001b[1;33m\u001b[0m\u001b[1;33m\u001b[0m\u001b[0m\n\u001b[1;32m----> 5\u001b[1;33m         \u001b[0mdCpdt\u001b[0m\u001b[1;33m.\u001b[0m\u001b[0mappend\u001b[0m\u001b[1;33m(\u001b[0m\u001b[0mp\u001b[0m\u001b[1;33m.\u001b[0m\u001b[0mConcentration\u001b[0m\u001b[1;33m+\u001b[0m\u001b[0mp\u001b[0m\u001b[1;33m.\u001b[0m\u001b[0mCoefficient\u001b[0m \u001b[1;33m/\u001b[0m\u001b[0mlimit_coef\u001b[0m\u001b[1;33m*\u001b[0m\u001b[0mlimit_concentration\u001b[0m\u001b[1;33m*\u001b[0m\u001b[0mX\u001b[0m\u001b[1;33m)\u001b[0m\u001b[1;33m\u001b[0m\u001b[1;33m\u001b[0m\u001b[0m\n\u001b[0m\u001b[0;32m      6\u001b[0m     \u001b[1;32mreturn\u001b[0m \u001b[0mdCpdt\u001b[0m\u001b[1;33m\u001b[0m\u001b[1;33m\u001b[0m\u001b[0m\n",
      "\u001b[1;31mNameError\u001b[0m: name 'X' is not defined"
     ]
    }
   ],
   "source": [
    "#Solve the reactant system\n",
    "sol_p = odeint(model_product, Concentration_product_initial, time)"
   ]
  },
  {
   "cell_type": "code",
   "execution_count": null,
   "metadata": {},
   "outputs": [],
   "source": [
    "# Plot the reactants \n",
    "fig = plt.figure()\n",
    "ax = plt.subplot(111)\n",
    "ax.plot(time,sol_p[:,0], label = 'Cd')\n",
    "ax.plot(time,sol_p[:,1], label = 'Ce')\n",
    "plt.title('Concentration profile of products')\n",
    "ax.legend()\n",
    "plt.show()"
   ]
  },
  {
   "cell_type": "code",
   "execution_count": null,
   "metadata": {},
   "outputs": [],
   "source": [
    "#The mixing time for the reaction is now calculated  \n",
    "def integrand(X):\n",
    "    rate=1;\n",
    "    for r in reactant:\n",
    "        Q = (r.Concentration-r.Coefficient/limit_coef*limit_concentration*X)**(r.Order)\n",
    "        rate = rate*Q\n",
    "    return limit_concentration/(reaction.Rate*rate)\n",
    "t_react, err = quad(integrand, 0, reaction.Conversion)"
   ]
  },
  {
   "cell_type": "code",
   "execution_count": null,
   "metadata": {},
   "outputs": [],
   "source": []
  },
  {
   "cell_type": "code",
   "execution_count": null,
   "metadata": {},
   "outputs": [],
   "source": [
    "#The mixing time for the reaction is now calculated  \n",
    "def integrand(X):\n",
    "    for p in product:\n",
    "        P = (p.Concentration-p.Coefficient/limit_coef*limit_concentration*X)\n",
    "    return P\n",
    "t_react, err = quad(integrand, 0, reaction.Conversion)"
   ]
  },
  {
   "cell_type": "code",
   "execution_count": null,
   "metadata": {},
   "outputs": [],
   "source": []
  },
  {
   "cell_type": "code",
   "execution_count": null,
   "metadata": {},
   "outputs": [],
   "source": []
  },
  {
   "cell_type": "code",
   "execution_count": null,
   "metadata": {},
   "outputs": [],
   "source": [
    "len(Concentration_product_initial)"
   ]
  },
  {
   "cell_type": "code",
   "execution_count": null,
   "metadata": {},
   "outputs": [],
   "source": []
  },
  {
   "cell_type": "code",
   "execution_count": null,
   "metadata": {},
   "outputs": [],
   "source": []
  },
  {
   "cell_type": "code",
   "execution_count": null,
   "metadata": {},
   "outputs": [],
   "source": []
  },
  {
   "cell_type": "code",
   "execution_count": null,
   "metadata": {},
   "outputs": [],
   "source": []
  },
  {
   "cell_type": "code",
   "execution_count": null,
   "metadata": {},
   "outputs": [],
   "source": []
  },
  {
   "cell_type": "code",
   "execution_count": null,
   "metadata": {},
   "outputs": [],
   "source": []
  },
  {
   "cell_type": "code",
   "execution_count": null,
   "metadata": {},
   "outputs": [],
   "source": []
  },
  {
   "cell_type": "code",
   "execution_count": null,
   "metadata": {},
   "outputs": [],
   "source": []
  },
  {
   "cell_type": "code",
   "execution_count": null,
   "metadata": {},
   "outputs": [],
   "source": []
  },
  {
   "cell_type": "code",
   "execution_count": null,
   "metadata": {},
   "outputs": [],
   "source": []
  },
  {
   "cell_type": "code",
   "execution_count": null,
   "metadata": {},
   "outputs": [],
   "source": []
  },
  {
   "cell_type": "code",
   "execution_count": null,
   "metadata": {
    "scrolled": true
   },
   "outputs": [],
   "source": []
  },
  {
   "cell_type": "code",
   "execution_count": null,
   "metadata": {},
   "outputs": [],
   "source": []
  },
  {
   "cell_type": "code",
   "execution_count": null,
   "metadata": {},
   "outputs": [],
   "source": []
  },
  {
   "cell_type": "code",
   "execution_count": null,
   "metadata": {},
   "outputs": [],
   "source": []
  },
  {
   "cell_type": "code",
   "execution_count": null,
   "metadata": {},
   "outputs": [],
   "source": []
  },
  {
   "cell_type": "code",
   "execution_count": null,
   "metadata": {},
   "outputs": [],
   "source": []
  },
  {
   "cell_type": "code",
   "execution_count": null,
   "metadata": {},
   "outputs": [],
   "source": []
  },
  {
   "cell_type": "code",
   "execution_count": null,
   "metadata": {},
   "outputs": [],
   "source": []
  }
 ],
 "metadata": {
  "kernelspec": {
   "display_name": "Python 3",
   "language": "python",
   "name": "python3"
  },
  "language_info": {
   "codemirror_mode": {
    "name": "ipython",
    "version": 3
   },
   "file_extension": ".py",
   "mimetype": "text/x-python",
   "name": "python",
   "nbconvert_exporter": "python",
   "pygments_lexer": "ipython3",
   "version": "3.7.3"
  }
 },
 "nbformat": 4,
 "nbformat_minor": 2
}
