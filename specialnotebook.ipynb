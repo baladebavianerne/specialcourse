{
 "cells": [
  {
   "cell_type": "code",
   "execution_count": 15,
   "metadata": {},
   "outputs": [
    {
     "data": {
      "image/png": "[encoded data removed]",
      "text/plain": [
       "<Figure size 432x288 with 1 Axes>"
      ]
     },
     "metadata": {
      "needs_background": "light"
     },
     "output_type": "display_data"
    },
    {
     "name": "stdout",
     "output_type": "stream",
     "text": [
      "The concentration of A is 0.08571428571428572, and the concentration of B is 0.5571428571428572\n",
      "The total volume in the tank is 224\n"
     ]
    }
   ],
   "source": [
    "#!/usr/bin/env python3\n",
    "# -*- coding: utf-8 -*-\n",
    "#!/usr/bin/env python3\n",
    "# -*- coding: utf-8 -*-\n",
    "\"\"\"\n",
    "Created on Thu Jun 27 10:25:56 2019\n",
    "\n",
    "@author: Helena Thøgersen, s153095\n",
    "#Model for batch mixing\n",
    "\"\"\"\n",
    "#initialization\n",
    "import matplotlib.pyplot as plt\n",
    "import numpy as np\n",
    "import pandas as pd\n",
    "import dataclasses as dataclass\n",
    "import matplotlib.pyplot as plt\n",
    "\n",
    "\n",
    "#First the loading period is defined, meaning the period it takes to fill up the tank.\n",
    "Tload = 16\n",
    "\n",
    "#Now the class is defined which contains the name of the inlet stream(s), the flow of the inlet stream(s) and the concentration\n",
    "#of the inlet stream(s).\n",
    "class InletStreams:\n",
    "    def __init__(self, nameofstream, Fi, Ci):\n",
    "        self.nameofstream = nameofstream\n",
    "        self.Fi = Fi\n",
    "        self.Ci = Ci\n",
    "        \n",
    "#The data for each inlet stream as objects\n",
    "inletstreamA = InletStreams(\"Stream A\", 8, 0.15)\n",
    "inletstreamB = InletStreams(\"StreamB\", 6, 1.3)\n",
    "\n",
    "#Now a time array is created with the length of the loading period.\n",
    "time = np.arange(1,Tload)\n",
    "#Now the volume of each inlet stream is defined as Volume=Flow*time\n",
    "VA = inletstreamA.Fi*time\n",
    "VB = inletstreamB.Fi*time\n",
    "\n",
    "#The total volume in the tank is defined as the sum of the volume of each inlet stream\n",
    "Vtot = VA + VB\n",
    "\n",
    "# Now the volume of each inlet stream and the total tank volume is plotted from t=1 to t=loading period \n",
    "fig = plt.figure()\n",
    "ax = plt.subplot(111)\n",
    "ax.plot(time,VA, label = 'Volume flow A')\n",
    "ax.plot(time,VB, label = 'Volume flow B')\n",
    "ax.plot(time,Vtot, label = 'Volume total flow')\n",
    "plt.title('Legend inside')\n",
    "ax.legend()\n",
    "plt.show()\n",
    "\n",
    "#The total end volume of each stream is calculated\n",
    "VAend = Tload*inletstreamA.Fi\n",
    "VBend = Tload*inletstreamB.Fi\n",
    "#The total volume in the tank after the loading period is calcultated as the sum of the volume of each stream\n",
    "Vtotend=VAend + VBend\n",
    "\n",
    "#The total concentration of each substance in the tank is calculated\n",
    "Ca = inletstreamA.Ci*VAend/Vtotend\n",
    "Cb = inletstreamB.Ci*VBend/Vtotend\n",
    "\n",
    "\n",
    "#All of the values are printed\n",
    "print('The concentration of A is ' + repr(Ca) + ', and the concentration of B is ' + repr(Cb))\n",
    "print('The total volume in the tank is ' + repr(Vtotend))\n",
    "\n",
    "\n",
    "\n"
   ]
  },
  {
   "cell_type": "code",
   "execution_count": 10,
   "metadata": {},
   "outputs": [
    {
     "data": {
      "text/plain": [
       "128"
      ]
     },
     "execution_count": 10,
     "metadata": {},
     "output_type": "execute_result"
    }
   ],
   "source": [
    "VAend"
   ]
  },
  {
   "cell_type": "code",
   "execution_count": 8,
   "metadata": {},
   "outputs": [
    {
     "data": {
      "text/plain": [
       "0.5571428571428572"
      ]
     },
     "execution_count": 8,
     "metadata": {},
     "output_type": "execute_result"
    }
   ],
   "source": [
    "Cb"
   ]
  },
  {
   "cell_type": "code",
   "execution_count": 9,
   "metadata": {},
   "outputs": [
    {
     "data": {
      "text/plain": [
       "0.08571428571428572"
      ]
     },
     "execution_count": 9,
     "metadata": {},
     "output_type": "execute_result"
    }
   ],
   "source": [
    "Ca"
   ]
  },
  {
   "cell_type": "code",
   "execution_count": null,
   "metadata": {},
   "outputs": [],
   "source": []
  }
 ],
 "metadata": {
  "kernelspec": {
   "display_name": "Python 3",
   "language": "python",
   "name": "python3"
  },
  "language_info": {
   "codemirror_mode": {
    "name": "ipython",
    "version": 3
   },
   "file_extension": ".py",
   "mimetype": "text/x-python",
   "name": "python",
   "nbconvert_exporter": "python",
   "pygments_lexer": "ipython3",
   "version": "3.7.3"
  },
  "widgets": {
   "application/vnd.jupyter.widget-state+json": {
    "state": {},
    "version_major": 2,
    "version_minor": 0
   }
  }
 },
 "nbformat": 4,
 "nbformat_minor": 2
}
