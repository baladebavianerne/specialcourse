{
 "cells": [
  {
   "cell_type": "markdown",
   "metadata": {},
   "source": [
    "Initialize. Call the commandoes:"
   ]
  },
  {
   "cell_type": "code",
   "execution_count": 1,
   "metadata": {},
   "outputs": [],
   "source": [
    "# Initialization\n",
    "import matplotlib.pyplot as plt\n",
    "import numpy as np\n",
    "import pandas as pd"
   ]
  },
  {
   "cell_type": "markdown",
   "metadata": {},
   "source": [
    "Class definition.\n",
    "The class is defined with the following variables:\n",
    "\n",
    "Stream is the number or name of the stream\n",
    "\n",
    "Flow is the flow for the specific stream [=] m3/h\n",
    "\n",
    "Concentration is the concentration for the specific component [=] mol/m3\n",
    "\n",
    "The class is now defined:"
   ]
  },
  {
   "cell_type": "code",
   "execution_count": 2,
   "metadata": {},
   "outputs": [],
   "source": [
    "class Batch:\n",
    "    def __init__(self, Stream, Flow, Concentration):\n",
    "        self.Stream = Stream\n",
    "        self.Flow = Flow\n",
    "        self.Concentration = Concentration\n",
    "\n",
    "#For this example the calculations are done with two different streams obtaining the following names and values:\n",
    "#For stream number 1 the flow is 100 m3/h and the concentration is 2 mol/m3\n",
    "batch1 = Batch(\"Stream 1\", 100, 2)\n",
    "#For stream number 2 the flow is 50 m3/h and the concentration is 3 mol/m3\n",
    "batch2 = Batch(\"Stream 2\", 50, 3)"
   ]
  },
  {
   "cell_type": "code",
   "execution_count": 3,
   "metadata": {},
   "outputs": [],
   "source": [
    "# Constants definitions\n",
    "#The time for the inflow is now defined. This specifies for how long the streams will go into the mixer.\n",
    "#The unit is in hours. For this example the simulation will run for 100 h\n",
    "T_inflow = 100"
   ]
  },
  {
   "cell_type": "code",
   "execution_count": 4,
   "metadata": {},
   "outputs": [],
   "source": [
    "# Variable definition\n",
    "#The time is now made as an interval going from 1 to the T_inflow value \n",
    "time = np.arange(1,T_inflow)"
   ]
  },
  {
   "cell_type": "code",
   "execution_count": 5,
   "metadata": {},
   "outputs": [],
   "source": [
    "# Volume calculations \n",
    "# To calculate the volume for the streams the following equation is used: \n",
    "# V = flow*t \n",
    "#The two volumes are calculated:\n",
    "V_stream1 = batch1.Flow*time\n",
    "V_stream2 = batch2.Flow*time\n",
    "# The total flow is the sum of the two volumes, which is then calculated:\n",
    "V_total = (batch1.Flow+batch2.Flow)*time"
   ]
  },
  {
   "cell_type": "code",
   "execution_count": 6,
   "metadata": {},
   "outputs": [
    {
     "data": {
      "image/png": "[encoded data removed]",
      "text/plain": [
       "<Figure size 432x288 with 1 Axes>"
      ]
     },
     "metadata": {
      "needs_background": "light"
     },
     "output_type": "display_data"
    }
   ],
   "source": [
    "# The system is now calculated, and it is possible to plot the volume of the mixer.\n",
    "# All 3 volumes are plotted.\n",
    "# Plot of the volume in the mixer from t=0 to t=T_inflow \n",
    "fig = plt.figure()\n",
    "ax = plt.subplot(111)\n",
    "ax.plot(time,V_stream1, label = 'Volume flow 1')\n",
    "ax.plot(time,V_stream2, label = 'Volume flow 2')\n",
    "ax.plot(time,V_total, label = 'Volume total flow')\n",
    "plt.title('Legend inside')\n",
    "ax.legend()\n",
    "plt.show()"
   ]
  },
  {
   "cell_type": "code",
   "execution_count": 7,
   "metadata": {},
   "outputs": [],
   "source": [
    "#The concentrations in the mixer is then calculated. The concentration is constant and independent on the time. \n",
    "#The equation used is:\n",
    "# C = V_stream*concentration/(V_total)\n",
    "#Where the stream volume and the concentration is specific for the specie being calculated. \n",
    "\n",
    "#Concentration calculations are now possible:\n",
    "C1 = (batch1.Flow*batch1.Concentration)/((batch1.Flow+batch2.Flow))\n",
    "C2 = (batch2.Flow*batch2.Concentration)/((batch1.Flow+batch2.Flow))"
   ]
  },
  {
   "cell_type": "code",
   "execution_count": 8,
   "metadata": {},
   "outputs": [
    {
     "name": "stdout",
     "output_type": "stream",
     "text": [
      "The value of C1 is 1.3333333333333333, and C2 is 1.0\n"
     ]
    }
   ],
   "source": [
    "# The values of the concentrations are:\n",
    "print('The value of C1 is ' + repr(C1) + ', and C2 is ' + repr(C2))"
   ]
  },
  {
   "cell_type": "code",
   "execution_count": null,
   "metadata": {},
   "outputs": [],
   "source": []
  },
  {
   "cell_type": "code",
   "execution_count": null,
   "metadata": {},
   "outputs": [],
   "source": []
  },
  {
   "cell_type": "code",
   "execution_count": null,
   "metadata": {},
   "outputs": [],
   "source": []
  },
  {
   "cell_type": "code",
   "execution_count": null,
   "metadata": {},
   "outputs": [],
   "source": []
  },
  {
   "cell_type": "code",
   "execution_count": null,
   "metadata": {},
   "outputs": [],
   "source": []
  }
 ],
 "metadata": {
  "kernelspec": {
   "display_name": "Python 3",
   "language": "python",
   "name": "python3"
  },
  "language_info": {
   "codemirror_mode": {
    "name": "ipython",
    "version": 3
   },
   "file_extension": ".py",
   "mimetype": "text/x-python",
   "name": "python",
   "nbconvert_exporter": "python",
   "pygments_lexer": "ipython3",
   "version": "3.7.3"
  }
 },
 "nbformat": 4,
 "nbformat_minor": 2
}
